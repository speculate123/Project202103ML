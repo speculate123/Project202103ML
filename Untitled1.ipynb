{
 "cells": [
  {
   "cell_type": "code",
   "execution_count": 1,
   "metadata": {},
   "outputs": [],
   "source": [
    "import config\n",
    "from DB import Database"
   ]
  },
  {
   "cell_type": "code",
   "execution_count": 4,
   "metadata": {},
   "outputs": [],
   "source": [
    "import pandas as pd"
   ]
  },
  {
   "cell_type": "code",
   "execution_count": 2,
   "metadata": {},
   "outputs": [
    {
     "name": "stdout",
     "output_type": "stream",
     "text": [
      "Init DB...\n",
      "Connecting to database:\n",
      "Database connected.\n",
      "Done!\n",
      "Connecting to database:\n",
      "Database connected.\n"
     ]
    }
   ],
   "source": [
    "db = Database()\n",
    "connection = db.connect()\n",
    "cursor = connection.cursor()"
   ]
  },
  {
   "cell_type": "code",
   "execution_count": 5,
   "metadata": {},
   "outputs": [
    {
     "data": {
      "text/html": [
       "<div>\n",
       "<style scoped>\n",
       "    .dataframe tbody tr th:only-of-type {\n",
       "        vertical-align: middle;\n",
       "    }\n",
       "\n",
       "    .dataframe tbody tr th {\n",
       "        vertical-align: top;\n",
       "    }\n",
       "\n",
       "    .dataframe thead th {\n",
       "        text-align: right;\n",
       "    }\n",
       "</style>\n",
       "<table border=\"1\" class=\"dataframe\">\n",
       "  <thead>\n",
       "    <tr style=\"text-align: right;\">\n",
       "      <th></th>\n",
       "      <th>date</th>\n",
       "      <th>close</th>\n",
       "      <th>volume</th>\n",
       "      <th>open</th>\n",
       "      <th>high</th>\n",
       "      <th>low</th>\n",
       "    </tr>\n",
       "  </thead>\n",
       "  <tbody>\n",
       "    <tr>\n",
       "      <td>0</td>\n",
       "      <td>2011-04-01</td>\n",
       "      <td>12.3057</td>\n",
       "      <td>417983833</td>\n",
       "      <td>12.5396</td>\n",
       "      <td>12.5567</td>\n",
       "      <td>12.2607</td>\n",
       "    </tr>\n",
       "    <tr>\n",
       "      <td>1</td>\n",
       "      <td>2011-04-04</td>\n",
       "      <td>12.1854</td>\n",
       "      <td>459004936</td>\n",
       "      <td>12.2968</td>\n",
       "      <td>12.3071</td>\n",
       "      <td>12.0857</td>\n",
       "    </tr>\n",
       "    <tr>\n",
       "      <td>2</td>\n",
       "      <td>2011-04-05</td>\n",
       "      <td>12.1032</td>\n",
       "      <td>482607247</td>\n",
       "      <td>12.0354</td>\n",
       "      <td>12.2232</td>\n",
       "      <td>12.0000</td>\n",
       "    </tr>\n",
       "    <tr>\n",
       "      <td>3</td>\n",
       "      <td>2011-04-06</td>\n",
       "      <td>12.0729</td>\n",
       "      <td>401842959</td>\n",
       "      <td>12.1864</td>\n",
       "      <td>12.2821</td>\n",
       "      <td>12.0407</td>\n",
       "    </tr>\n",
       "    <tr>\n",
       "      <td>4</td>\n",
       "      <td>2011-04-07</td>\n",
       "      <td>12.0743</td>\n",
       "      <td>373073251</td>\n",
       "      <td>12.0750</td>\n",
       "      <td>12.1582</td>\n",
       "      <td>12.0011</td>\n",
       "    </tr>\n",
       "    <tr>\n",
       "      <td>...</td>\n",
       "      <td>...</td>\n",
       "      <td>...</td>\n",
       "      <td>...</td>\n",
       "      <td>...</td>\n",
       "      <td>...</td>\n",
       "      <td>...</td>\n",
       "    </tr>\n",
       "    <tr>\n",
       "      <td>2511</td>\n",
       "      <td>2021-03-25</td>\n",
       "      <td>120.5900</td>\n",
       "      <td>98844680</td>\n",
       "      <td>119.5400</td>\n",
       "      <td>121.6600</td>\n",
       "      <td>119.0000</td>\n",
       "    </tr>\n",
       "    <tr>\n",
       "      <td>2512</td>\n",
       "      <td>2021-03-26</td>\n",
       "      <td>121.2100</td>\n",
       "      <td>94071230</td>\n",
       "      <td>120.3500</td>\n",
       "      <td>121.4800</td>\n",
       "      <td>118.9200</td>\n",
       "    </tr>\n",
       "    <tr>\n",
       "      <td>2513</td>\n",
       "      <td>2021-03-29</td>\n",
       "      <td>121.3900</td>\n",
       "      <td>80819200</td>\n",
       "      <td>121.6500</td>\n",
       "      <td>122.5800</td>\n",
       "      <td>120.7299</td>\n",
       "    </tr>\n",
       "    <tr>\n",
       "      <td>2514</td>\n",
       "      <td>2021-03-30</td>\n",
       "      <td>119.9000</td>\n",
       "      <td>85671920</td>\n",
       "      <td>120.1100</td>\n",
       "      <td>120.4031</td>\n",
       "      <td>118.8600</td>\n",
       "    </tr>\n",
       "    <tr>\n",
       "      <td>2515</td>\n",
       "      <td>2021-03-31</td>\n",
       "      <td>122.1500</td>\n",
       "      <td>118323800</td>\n",
       "      <td>121.6500</td>\n",
       "      <td>123.5200</td>\n",
       "      <td>121.1500</td>\n",
       "    </tr>\n",
       "  </tbody>\n",
       "</table>\n",
       "<p>2516 rows × 6 columns</p>\n",
       "</div>"
      ],
      "text/plain": [
       "            date     close     volume      open      high       low\n",
       "0     2011-04-01   12.3057  417983833   12.5396   12.5567   12.2607\n",
       "1     2011-04-04   12.1854  459004936   12.2968   12.3071   12.0857\n",
       "2     2011-04-05   12.1032  482607247   12.0354   12.2232   12.0000\n",
       "3     2011-04-06   12.0729  401842959   12.1864   12.2821   12.0407\n",
       "4     2011-04-07   12.0743  373073251   12.0750   12.1582   12.0011\n",
       "...          ...       ...        ...       ...       ...       ...\n",
       "2511  2021-03-25  120.5900   98844680  119.5400  121.6600  119.0000\n",
       "2512  2021-03-26  121.2100   94071230  120.3500  121.4800  118.9200\n",
       "2513  2021-03-29  121.3900   80819200  121.6500  122.5800  120.7299\n",
       "2514  2021-03-30  119.9000   85671920  120.1100  120.4031  118.8600\n",
       "2515  2021-03-31  122.1500  118323800  121.6500  123.5200  121.1500\n",
       "\n",
       "[2516 rows x 6 columns]"
      ]
     },
     "execution_count": 5,
     "metadata": {},
     "output_type": "execute_result"
    }
   ],
   "source": [
    "sql = \"\"\"\n",
    "SELECT * FROM aapl \n",
    "ORDER BY date asc\n",
    "\"\"\"\n",
    "df = pd.read_sql(sql, con=connection)\n",
    "df"
   ]
  },
  {
   "cell_type": "code",
   "execution_count": null,
   "metadata": {},
   "outputs": [],
   "source": [
    "sql = \"\"\"\n",
    "\"\"\""
   ]
  },
  {
   "cell_type": "code",
   "execution_count": null,
   "metadata": {},
   "outputs": [],
   "source": []
  }
 ],
 "metadata": {
  "kernelspec": {
   "display_name": "Python 3",
   "language": "python",
   "name": "python3"
  },
  "language_info": {
   "codemirror_mode": {
    "name": "ipython",
    "version": 3
   },
   "file_extension": ".py",
   "mimetype": "text/x-python",
   "name": "python",
   "nbconvert_exporter": "python",
   "pygments_lexer": "ipython3",
   "version": "3.7.4"
  }
 },
 "nbformat": 4,
 "nbformat_minor": 2
}
