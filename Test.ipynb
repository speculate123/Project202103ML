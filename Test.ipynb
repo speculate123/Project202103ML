{
  "nbformat": 4,
  "nbformat_minor": 0,
  "metadata": {
    "colab": {
      "name": "Test.ipynb",
      "provenance": [],
      "collapsed_sections": [],
      "include_colab_link": true
    },
    "kernelspec": {
      "name": "python3",
      "display_name": "Python 3"
    },
    "language_info": {
      "name": "python"
    }
  },
  "cells": [
    {
      "cell_type": "markdown",
      "metadata": {
        "id": "view-in-github",
        "colab_type": "text"
      },
      "source": [
        "<a href=\"https://colab.research.google.com/github/speculate123/Project202103ML/blob/master/Test.ipynb\" target=\"_parent\"><img src=\"https://colab.research.google.com/assets/colab-badge.svg\" alt=\"Open In Colab\"/></a>"
      ]
    },
    {
      "cell_type": "code",
      "metadata": {
        "colab": {
          "base_uri": "https://localhost:8080/"
        },
        "id": "u_byCpIA3Opj",
        "outputId": "b62ed35b-6fa7-4692-9888-67c4b9085aee"
      },
      "source": [
        "# from google.colab import drive\n",
        "# drive.mount('/content/drive')\n",
        "# %cd /content/drive/MyDrive/"
      ],
      "execution_count": 54,
      "outputs": [
        {
          "output_type": "stream",
          "text": [
            "Mounted at /content/drive\n"
          ],
          "name": "stdout"
        }
      ]
    },
    {
      "cell_type": "code",
      "metadata": {
        "id": "VHQ0bmPqo-z5",
        "colab": {
          "base_uri": "https://localhost:8080/"
        },
        "outputId": "549b9aae-c080-44e1-bda4-cad3a32f423b"
      },
      "source": [
        "!rm -r ./Project202103ML/\n",
        "!git clone https://github.com/speculate123/Project202103ML.git\n",
        "%cd ./Project202103ML"
      ],
      "execution_count": 55,
      "outputs": [
        {
          "output_type": "stream",
          "text": [
            "/content/drive/MyDrive\n",
            "Cloning into 'Project202103ML'...\n",
            "remote: Enumerating objects: 59, done.\u001b[K\n",
            "remote: Counting objects: 100% (59/59), done.\u001b[K\n",
            "remote: Compressing objects: 100% (50/50), done.\u001b[K\n",
            "remote: Total 59 (delta 24), reused 21 (delta 3), pack-reused 0\u001b[K\n",
            "Unpacking objects: 100% (59/59), done.\n"
          ],
          "name": "stdout"
        }
      ]
    },
    {
      "cell_type": "code",
      "metadata": {
        "id": "yo9aqD7kH0_S"
      },
      "source": [
        ""
      ],
      "execution_count": 49,
      "outputs": []
    },
    {
      "cell_type": "code",
      "metadata": {
        "id": "L_wue8Ap51ME",
        "colab": {
          "base_uri": "https://localhost:8080/",
          "height": 415
        },
        "outputId": "888585c2-b845-4276-c7ac-31234797b50a"
      },
      "source": [
        "import DB\n",
        "import pandas as pd\n",
        "data = pd.read_csv(\"data/HistoricalData_1617305671760.csv\")\n",
        "data"
      ],
      "execution_count": 63,
      "outputs": [
        {
          "output_type": "execute_result",
          "data": {
            "text/html": [
              "<div>\n",
              "<style scoped>\n",
              "    .dataframe tbody tr th:only-of-type {\n",
              "        vertical-align: middle;\n",
              "    }\n",
              "\n",
              "    .dataframe tbody tr th {\n",
              "        vertical-align: top;\n",
              "    }\n",
              "\n",
              "    .dataframe thead th {\n",
              "        text-align: right;\n",
              "    }\n",
              "</style>\n",
              "<table border=\"1\" class=\"dataframe\">\n",
              "  <thead>\n",
              "    <tr style=\"text-align: right;\">\n",
              "      <th></th>\n",
              "      <th>Date</th>\n",
              "      <th>Close/Last</th>\n",
              "      <th>Volume</th>\n",
              "      <th>Open</th>\n",
              "      <th>High</th>\n",
              "      <th>Low</th>\n",
              "    </tr>\n",
              "  </thead>\n",
              "  <tbody>\n",
              "    <tr>\n",
              "      <th>0</th>\n",
              "      <td>03/31/2021</td>\n",
              "      <td>$122.15</td>\n",
              "      <td>118323800</td>\n",
              "      <td>$121.65</td>\n",
              "      <td>$123.52</td>\n",
              "      <td>$121.15</td>\n",
              "    </tr>\n",
              "    <tr>\n",
              "      <th>1</th>\n",
              "      <td>03/30/2021</td>\n",
              "      <td>$119.9</td>\n",
              "      <td>85671920</td>\n",
              "      <td>$120.11</td>\n",
              "      <td>$120.4031</td>\n",
              "      <td>$118.86</td>\n",
              "    </tr>\n",
              "    <tr>\n",
              "      <th>2</th>\n",
              "      <td>03/29/2021</td>\n",
              "      <td>$121.39</td>\n",
              "      <td>80819200</td>\n",
              "      <td>$121.65</td>\n",
              "      <td>$122.58</td>\n",
              "      <td>$120.7299</td>\n",
              "    </tr>\n",
              "    <tr>\n",
              "      <th>3</th>\n",
              "      <td>03/26/2021</td>\n",
              "      <td>$121.21</td>\n",
              "      <td>94071230</td>\n",
              "      <td>$120.35</td>\n",
              "      <td>$121.48</td>\n",
              "      <td>$118.92</td>\n",
              "    </tr>\n",
              "    <tr>\n",
              "      <th>4</th>\n",
              "      <td>03/25/2021</td>\n",
              "      <td>$120.59</td>\n",
              "      <td>98844680</td>\n",
              "      <td>$119.54</td>\n",
              "      <td>$121.66</td>\n",
              "      <td>$119</td>\n",
              "    </tr>\n",
              "    <tr>\n",
              "      <th>...</th>\n",
              "      <td>...</td>\n",
              "      <td>...</td>\n",
              "      <td>...</td>\n",
              "      <td>...</td>\n",
              "      <td>...</td>\n",
              "      <td>...</td>\n",
              "    </tr>\n",
              "    <tr>\n",
              "      <th>2511</th>\n",
              "      <td>04/07/2011</td>\n",
              "      <td>$12.0743</td>\n",
              "      <td>373073251</td>\n",
              "      <td>$12.075</td>\n",
              "      <td>$12.1582</td>\n",
              "      <td>$12.0011</td>\n",
              "    </tr>\n",
              "    <tr>\n",
              "      <th>2512</th>\n",
              "      <td>04/06/2011</td>\n",
              "      <td>$12.0729</td>\n",
              "      <td>401842959</td>\n",
              "      <td>$12.1864</td>\n",
              "      <td>$12.2821</td>\n",
              "      <td>$12.0407</td>\n",
              "    </tr>\n",
              "    <tr>\n",
              "      <th>2513</th>\n",
              "      <td>04/05/2011</td>\n",
              "      <td>$12.1032</td>\n",
              "      <td>482607247</td>\n",
              "      <td>$12.0354</td>\n",
              "      <td>$12.2232</td>\n",
              "      <td>$12</td>\n",
              "    </tr>\n",
              "    <tr>\n",
              "      <th>2514</th>\n",
              "      <td>04/04/2011</td>\n",
              "      <td>$12.1854</td>\n",
              "      <td>459004936</td>\n",
              "      <td>$12.2968</td>\n",
              "      <td>$12.3071</td>\n",
              "      <td>$12.0857</td>\n",
              "    </tr>\n",
              "    <tr>\n",
              "      <th>2515</th>\n",
              "      <td>04/01/2011</td>\n",
              "      <td>$12.3057</td>\n",
              "      <td>417983833</td>\n",
              "      <td>$12.5396</td>\n",
              "      <td>$12.5567</td>\n",
              "      <td>$12.2607</td>\n",
              "    </tr>\n",
              "  </tbody>\n",
              "</table>\n",
              "<p>2516 rows × 6 columns</p>\n",
              "</div>"
            ],
            "text/plain": [
              "            Date Close/Last     Volume      Open       High        Low\n",
              "0     03/31/2021    $122.15  118323800   $121.65    $123.52    $121.15\n",
              "1     03/30/2021     $119.9   85671920   $120.11  $120.4031    $118.86\n",
              "2     03/29/2021    $121.39   80819200   $121.65    $122.58  $120.7299\n",
              "3     03/26/2021    $121.21   94071230   $120.35    $121.48    $118.92\n",
              "4     03/25/2021    $120.59   98844680   $119.54    $121.66       $119\n",
              "...          ...        ...        ...       ...        ...        ...\n",
              "2511  04/07/2011   $12.0743  373073251   $12.075   $12.1582   $12.0011\n",
              "2512  04/06/2011   $12.0729  401842959  $12.1864   $12.2821   $12.0407\n",
              "2513  04/05/2011   $12.1032  482607247  $12.0354   $12.2232        $12\n",
              "2514  04/04/2011   $12.1854  459004936  $12.2968   $12.3071   $12.0857\n",
              "2515  04/01/2011   $12.3057  417983833  $12.5396   $12.5567   $12.2607\n",
              "\n",
              "[2516 rows x 6 columns]"
            ]
          },
          "metadata": {
            "tags": []
          },
          "execution_count": 63
        }
      ]
    },
    {
      "cell_type": "code",
      "metadata": {
        "colab": {
          "base_uri": "https://localhost:8080/",
          "height": 415
        },
        "id": "e2PSHW96_Spj",
        "outputId": "4a982da3-2515-4954-bf70-949fb349c463"
      },
      "source": [
        "data['Date'] = pd.to_datetime(data['Date'])\n",
        "data = data.rename(columns={\"Close/Last\": \"Close\"})\n",
        "data['Close'] = data['Close'].map(lambda x: x.lstrip('$'))\n",
        "data['Open'] = data['Open'].map(lambda x: x.lstrip('$'))\n",
        "data['High'] = data['High'].map(lambda x: x.lstrip('$'))\n",
        "data['Low'] = data['Low'].map(lambda x: x.lstrip('$'))\n",
        "data"
      ],
      "execution_count": 64,
      "outputs": [
        {
          "output_type": "execute_result",
          "data": {
            "text/html": [
              "<div>\n",
              "<style scoped>\n",
              "    .dataframe tbody tr th:only-of-type {\n",
              "        vertical-align: middle;\n",
              "    }\n",
              "\n",
              "    .dataframe tbody tr th {\n",
              "        vertical-align: top;\n",
              "    }\n",
              "\n",
              "    .dataframe thead th {\n",
              "        text-align: right;\n",
              "    }\n",
              "</style>\n",
              "<table border=\"1\" class=\"dataframe\">\n",
              "  <thead>\n",
              "    <tr style=\"text-align: right;\">\n",
              "      <th></th>\n",
              "      <th>Date</th>\n",
              "      <th>Close</th>\n",
              "      <th>Volume</th>\n",
              "      <th>Open</th>\n",
              "      <th>High</th>\n",
              "      <th>Low</th>\n",
              "    </tr>\n",
              "  </thead>\n",
              "  <tbody>\n",
              "    <tr>\n",
              "      <th>0</th>\n",
              "      <td>2021-03-31</td>\n",
              "      <td>122.15</td>\n",
              "      <td>118323800</td>\n",
              "      <td>121.65</td>\n",
              "      <td>123.52</td>\n",
              "      <td>121.15</td>\n",
              "    </tr>\n",
              "    <tr>\n",
              "      <th>1</th>\n",
              "      <td>2021-03-30</td>\n",
              "      <td>119.9</td>\n",
              "      <td>85671920</td>\n",
              "      <td>120.11</td>\n",
              "      <td>120.4031</td>\n",
              "      <td>118.86</td>\n",
              "    </tr>\n",
              "    <tr>\n",
              "      <th>2</th>\n",
              "      <td>2021-03-29</td>\n",
              "      <td>121.39</td>\n",
              "      <td>80819200</td>\n",
              "      <td>121.65</td>\n",
              "      <td>122.58</td>\n",
              "      <td>120.7299</td>\n",
              "    </tr>\n",
              "    <tr>\n",
              "      <th>3</th>\n",
              "      <td>2021-03-26</td>\n",
              "      <td>121.21</td>\n",
              "      <td>94071230</td>\n",
              "      <td>120.35</td>\n",
              "      <td>121.48</td>\n",
              "      <td>118.92</td>\n",
              "    </tr>\n",
              "    <tr>\n",
              "      <th>4</th>\n",
              "      <td>2021-03-25</td>\n",
              "      <td>120.59</td>\n",
              "      <td>98844680</td>\n",
              "      <td>119.54</td>\n",
              "      <td>121.66</td>\n",
              "      <td>119</td>\n",
              "    </tr>\n",
              "    <tr>\n",
              "      <th>...</th>\n",
              "      <td>...</td>\n",
              "      <td>...</td>\n",
              "      <td>...</td>\n",
              "      <td>...</td>\n",
              "      <td>...</td>\n",
              "      <td>...</td>\n",
              "    </tr>\n",
              "    <tr>\n",
              "      <th>2511</th>\n",
              "      <td>2011-04-07</td>\n",
              "      <td>12.0743</td>\n",
              "      <td>373073251</td>\n",
              "      <td>12.075</td>\n",
              "      <td>12.1582</td>\n",
              "      <td>12.0011</td>\n",
              "    </tr>\n",
              "    <tr>\n",
              "      <th>2512</th>\n",
              "      <td>2011-04-06</td>\n",
              "      <td>12.0729</td>\n",
              "      <td>401842959</td>\n",
              "      <td>12.1864</td>\n",
              "      <td>12.2821</td>\n",
              "      <td>12.0407</td>\n",
              "    </tr>\n",
              "    <tr>\n",
              "      <th>2513</th>\n",
              "      <td>2011-04-05</td>\n",
              "      <td>12.1032</td>\n",
              "      <td>482607247</td>\n",
              "      <td>12.0354</td>\n",
              "      <td>12.2232</td>\n",
              "      <td>12</td>\n",
              "    </tr>\n",
              "    <tr>\n",
              "      <th>2514</th>\n",
              "      <td>2011-04-04</td>\n",
              "      <td>12.1854</td>\n",
              "      <td>459004936</td>\n",
              "      <td>12.2968</td>\n",
              "      <td>12.3071</td>\n",
              "      <td>12.0857</td>\n",
              "    </tr>\n",
              "    <tr>\n",
              "      <th>2515</th>\n",
              "      <td>2011-04-01</td>\n",
              "      <td>12.3057</td>\n",
              "      <td>417983833</td>\n",
              "      <td>12.5396</td>\n",
              "      <td>12.5567</td>\n",
              "      <td>12.2607</td>\n",
              "    </tr>\n",
              "  </tbody>\n",
              "</table>\n",
              "<p>2516 rows × 6 columns</p>\n",
              "</div>"
            ],
            "text/plain": [
              "           Date    Close     Volume     Open      High       Low\n",
              "0    2021-03-31   122.15  118323800   121.65    123.52    121.15\n",
              "1    2021-03-30    119.9   85671920   120.11  120.4031    118.86\n",
              "2    2021-03-29   121.39   80819200   121.65    122.58  120.7299\n",
              "3    2021-03-26   121.21   94071230   120.35    121.48    118.92\n",
              "4    2021-03-25   120.59   98844680   119.54    121.66       119\n",
              "...         ...      ...        ...      ...       ...       ...\n",
              "2511 2011-04-07  12.0743  373073251   12.075   12.1582   12.0011\n",
              "2512 2011-04-06  12.0729  401842959  12.1864   12.2821   12.0407\n",
              "2513 2011-04-05  12.1032  482607247  12.0354   12.2232        12\n",
              "2514 2011-04-04  12.1854  459004936  12.2968   12.3071   12.0857\n",
              "2515 2011-04-01  12.3057  417983833  12.5396   12.5567   12.2607\n",
              "\n",
              "[2516 rows x 6 columns]"
            ]
          },
          "metadata": {
            "tags": []
          },
          "execution_count": 64
        }
      ]
    },
    {
      "cell_type": "code",
      "metadata": {
        "id": "PqNz4uKnC0Xz"
      },
      "source": [
        "data.to_csv('data.csv', index=False)"
      ],
      "execution_count": 79,
      "outputs": []
    },
    {
      "cell_type": "code",
      "metadata": {
        "id": "qHztIOxZOpLL"
      },
      "source": [
        "cursor.execute(\"\"\"DROP TABLE aapl\"\"\")\n",
        "connection.commit()"
      ],
      "execution_count": 75,
      "outputs": []
    },
    {
      "cell_type": "code",
      "metadata": {
        "id": "HQwXbE9xA0yp"
      },
      "source": [
        "cursor.execute(\"\"\"CREATE TABLE AAPL(\n",
        "date DATE,\n",
        "close DECIMAL(8,4),\n",
        "volume INT,\n",
        "open DECIMAL(8,4),\n",
        "high DECIMAL(8,4),\n",
        "low DECIMAL(8,4))\"\"\")\n",
        "connection.commit()"
      ],
      "execution_count": 82,
      "outputs": []
    },
    {
      "cell_type": "code",
      "metadata": {
        "colab": {
          "base_uri": "https://localhost:8080/",
          "height": 233
        },
        "id": "udPu-vVQCcFZ",
        "outputId": "104f3224-9499-443d-b69c-9a882dcc4a64"
      },
      "source": [
        "sql = \"\"\"\n",
        "SELECT \"table_name\",\"column_name\", \"data_type\", \"table_schema\"\n",
        "FROM INFORMATION_SCHEMA.COLUMNS\n",
        "WHERE \"table_schema\" = 'public'\n",
        "ORDER BY table_name  \n",
        "\"\"\"\n",
        "pd.read_sql(sql, con=connection)"
      ],
      "execution_count": 83,
      "outputs": [
        {
          "output_type": "execute_result",
          "data": {
            "text/html": [
              "<div>\n",
              "<style scoped>\n",
              "    .dataframe tbody tr th:only-of-type {\n",
              "        vertical-align: middle;\n",
              "    }\n",
              "\n",
              "    .dataframe tbody tr th {\n",
              "        vertical-align: top;\n",
              "    }\n",
              "\n",
              "    .dataframe thead th {\n",
              "        text-align: right;\n",
              "    }\n",
              "</style>\n",
              "<table border=\"1\" class=\"dataframe\">\n",
              "  <thead>\n",
              "    <tr style=\"text-align: right;\">\n",
              "      <th></th>\n",
              "      <th>table_name</th>\n",
              "      <th>column_name</th>\n",
              "      <th>data_type</th>\n",
              "      <th>table_schema</th>\n",
              "    </tr>\n",
              "  </thead>\n",
              "  <tbody>\n",
              "    <tr>\n",
              "      <th>0</th>\n",
              "      <td>aapl</td>\n",
              "      <td>high</td>\n",
              "      <td>numeric</td>\n",
              "      <td>public</td>\n",
              "    </tr>\n",
              "    <tr>\n",
              "      <th>1</th>\n",
              "      <td>aapl</td>\n",
              "      <td>close</td>\n",
              "      <td>numeric</td>\n",
              "      <td>public</td>\n",
              "    </tr>\n",
              "    <tr>\n",
              "      <th>2</th>\n",
              "      <td>aapl</td>\n",
              "      <td>open</td>\n",
              "      <td>numeric</td>\n",
              "      <td>public</td>\n",
              "    </tr>\n",
              "    <tr>\n",
              "      <th>3</th>\n",
              "      <td>aapl</td>\n",
              "      <td>date</td>\n",
              "      <td>date</td>\n",
              "      <td>public</td>\n",
              "    </tr>\n",
              "    <tr>\n",
              "      <th>4</th>\n",
              "      <td>aapl</td>\n",
              "      <td>volume</td>\n",
              "      <td>integer</td>\n",
              "      <td>public</td>\n",
              "    </tr>\n",
              "    <tr>\n",
              "      <th>5</th>\n",
              "      <td>aapl</td>\n",
              "      <td>low</td>\n",
              "      <td>numeric</td>\n",
              "      <td>public</td>\n",
              "    </tr>\n",
              "  </tbody>\n",
              "</table>\n",
              "</div>"
            ],
            "text/plain": [
              "  table_name column_name data_type table_schema\n",
              "0       aapl        high   numeric       public\n",
              "1       aapl       close   numeric       public\n",
              "2       aapl        open   numeric       public\n",
              "3       aapl        date      date       public\n",
              "4       aapl      volume   integer       public\n",
              "5       aapl         low   numeric       public"
            ]
          },
          "metadata": {
            "tags": []
          },
          "execution_count": 83
        }
      ]
    },
    {
      "cell_type": "code",
      "metadata": {
        "id": "HwH3p7biCkXg"
      },
      "source": [
        "with open('data.csv', 'r') as row:\n",
        "    next(row)# Skip the header row.\n",
        "    cursor.copy_from(row, 'AAPL', sep=',')\n",
        "connection.commit()    "
      ],
      "execution_count": 84,
      "outputs": []
    },
    {
      "cell_type": "code",
      "metadata": {
        "colab": {
          "base_uri": "https://localhost:8080/",
          "height": 415
        },
        "id": "ppiOlWFLDNiK",
        "outputId": "3f1971ea-b697-4871-80b6-49f4f51daeef"
      },
      "source": [
        "sql = \"\"\"\n",
        "SELECT * FROM aapl \n",
        "ORDER BY date asc\n",
        "\"\"\"\n",
        "df = pd.read_sql(sql, con=connection)\n",
        "df"
      ],
      "execution_count": 85,
      "outputs": [
        {
          "output_type": "execute_result",
          "data": {
            "text/html": [
              "<div>\n",
              "<style scoped>\n",
              "    .dataframe tbody tr th:only-of-type {\n",
              "        vertical-align: middle;\n",
              "    }\n",
              "\n",
              "    .dataframe tbody tr th {\n",
              "        vertical-align: top;\n",
              "    }\n",
              "\n",
              "    .dataframe thead th {\n",
              "        text-align: right;\n",
              "    }\n",
              "</style>\n",
              "<table border=\"1\" class=\"dataframe\">\n",
              "  <thead>\n",
              "    <tr style=\"text-align: right;\">\n",
              "      <th></th>\n",
              "      <th>date</th>\n",
              "      <th>close</th>\n",
              "      <th>volume</th>\n",
              "      <th>open</th>\n",
              "      <th>high</th>\n",
              "      <th>low</th>\n",
              "    </tr>\n",
              "  </thead>\n",
              "  <tbody>\n",
              "    <tr>\n",
              "      <th>0</th>\n",
              "      <td>2011-04-01</td>\n",
              "      <td>12.3057</td>\n",
              "      <td>417983833</td>\n",
              "      <td>12.5396</td>\n",
              "      <td>12.5567</td>\n",
              "      <td>12.2607</td>\n",
              "    </tr>\n",
              "    <tr>\n",
              "      <th>1</th>\n",
              "      <td>2011-04-04</td>\n",
              "      <td>12.1854</td>\n",
              "      <td>459004936</td>\n",
              "      <td>12.2968</td>\n",
              "      <td>12.3071</td>\n",
              "      <td>12.0857</td>\n",
              "    </tr>\n",
              "    <tr>\n",
              "      <th>2</th>\n",
              "      <td>2011-04-05</td>\n",
              "      <td>12.1032</td>\n",
              "      <td>482607247</td>\n",
              "      <td>12.0354</td>\n",
              "      <td>12.2232</td>\n",
              "      <td>12.0000</td>\n",
              "    </tr>\n",
              "    <tr>\n",
              "      <th>3</th>\n",
              "      <td>2011-04-06</td>\n",
              "      <td>12.0729</td>\n",
              "      <td>401842959</td>\n",
              "      <td>12.1864</td>\n",
              "      <td>12.2821</td>\n",
              "      <td>12.0407</td>\n",
              "    </tr>\n",
              "    <tr>\n",
              "      <th>4</th>\n",
              "      <td>2011-04-07</td>\n",
              "      <td>12.0743</td>\n",
              "      <td>373073251</td>\n",
              "      <td>12.0750</td>\n",
              "      <td>12.1582</td>\n",
              "      <td>12.0011</td>\n",
              "    </tr>\n",
              "    <tr>\n",
              "      <th>...</th>\n",
              "      <td>...</td>\n",
              "      <td>...</td>\n",
              "      <td>...</td>\n",
              "      <td>...</td>\n",
              "      <td>...</td>\n",
              "      <td>...</td>\n",
              "    </tr>\n",
              "    <tr>\n",
              "      <th>2511</th>\n",
              "      <td>2021-03-25</td>\n",
              "      <td>120.5900</td>\n",
              "      <td>98844680</td>\n",
              "      <td>119.5400</td>\n",
              "      <td>121.6600</td>\n",
              "      <td>119.0000</td>\n",
              "    </tr>\n",
              "    <tr>\n",
              "      <th>2512</th>\n",
              "      <td>2021-03-26</td>\n",
              "      <td>121.2100</td>\n",
              "      <td>94071230</td>\n",
              "      <td>120.3500</td>\n",
              "      <td>121.4800</td>\n",
              "      <td>118.9200</td>\n",
              "    </tr>\n",
              "    <tr>\n",
              "      <th>2513</th>\n",
              "      <td>2021-03-29</td>\n",
              "      <td>121.3900</td>\n",
              "      <td>80819200</td>\n",
              "      <td>121.6500</td>\n",
              "      <td>122.5800</td>\n",
              "      <td>120.7299</td>\n",
              "    </tr>\n",
              "    <tr>\n",
              "      <th>2514</th>\n",
              "      <td>2021-03-30</td>\n",
              "      <td>119.9000</td>\n",
              "      <td>85671920</td>\n",
              "      <td>120.1100</td>\n",
              "      <td>120.4031</td>\n",
              "      <td>118.8600</td>\n",
              "    </tr>\n",
              "    <tr>\n",
              "      <th>2515</th>\n",
              "      <td>2021-03-31</td>\n",
              "      <td>122.1500</td>\n",
              "      <td>118323800</td>\n",
              "      <td>121.6500</td>\n",
              "      <td>123.5200</td>\n",
              "      <td>121.1500</td>\n",
              "    </tr>\n",
              "  </tbody>\n",
              "</table>\n",
              "<p>2516 rows × 6 columns</p>\n",
              "</div>"
            ],
            "text/plain": [
              "            date     close     volume      open      high       low\n",
              "0     2011-04-01   12.3057  417983833   12.5396   12.5567   12.2607\n",
              "1     2011-04-04   12.1854  459004936   12.2968   12.3071   12.0857\n",
              "2     2011-04-05   12.1032  482607247   12.0354   12.2232   12.0000\n",
              "3     2011-04-06   12.0729  401842959   12.1864   12.2821   12.0407\n",
              "4     2011-04-07   12.0743  373073251   12.0750   12.1582   12.0011\n",
              "...          ...       ...        ...       ...       ...       ...\n",
              "2511  2021-03-25  120.5900   98844680  119.5400  121.6600  119.0000\n",
              "2512  2021-03-26  121.2100   94071230  120.3500  121.4800  118.9200\n",
              "2513  2021-03-29  121.3900   80819200  121.6500  122.5800  120.7299\n",
              "2514  2021-03-30  119.9000   85671920  120.1100  120.4031  118.8600\n",
              "2515  2021-03-31  122.1500  118323800  121.6500  123.5200  121.1500\n",
              "\n",
              "[2516 rows x 6 columns]"
            ]
          },
          "metadata": {
            "tags": []
          },
          "execution_count": 85
        }
      ]
    },
    {
      "cell_type": "code",
      "metadata": {
        "id": "lirBpAKCFNlB"
      },
      "source": [
        ""
      ],
      "execution_count": null,
      "outputs": []
    }
  ]
}